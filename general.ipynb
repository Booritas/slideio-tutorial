{
 "cells": [
  {
   "cell_type": "code",
   "execution_count": 1,
   "id": "5551fc3a-5e6c-4ed3-8899-9b11075b1084",
   "metadata": {
    "tags": []
   },
   "outputs": [],
   "source": [
    "import slideio"
   ]
  },
  {
   "cell_type": "markdown",
   "id": "362b482b-0295-4aad-8e68-652ea44b4498",
   "metadata": {
    "tags": []
   },
   "source": [
    "# Test images\n",
    "All test images are located in \"image\" folder. The dictionary \"images\" contains image paths and corresponding drivers."
   ]
  },
  {
   "cell_type": "code",
   "execution_count": 3,
   "id": "4873fcd1-9fe2-41bb-802b-740f7aca4558",
   "metadata": {
    "tags": []
   },
   "outputs": [],
   "source": [
    "images = [\n",
    "    {\"path\":\"./images/CMU-1-Small-Region.svs\",                      \"driver\":\"SVS\"},\n",
    "    {\"path\":\"./images/MR-MONO2-8-16x-heart\",                        \"driver\":\"DCM\"},\n",
    "    {\"path\":\"./images/08_18_2018_enc_1001_633.czi\",                 \"driver\":\"CZI\"},\n",
    "    {\"path\":\"./images/pJP31mCherry.czi\",                            \"driver\":\"CZI\"},\n",
    "    {\"path\":\"./images/Airbus_Pleiades_50cm_8bit_RGB_Yogyakarta.jpg\",\"driver\":\"GDAL\"},\n",
    "    {\"path\":\"./images/test3-DAPI-2-(387).ndpi\",                     \"driver\":\"NDPI\"},\n",
    "    {\"path\":\"./images/test3-FITC 2 (485).ndpi\",                     \"driver\":\"NDPI\"},\n",
    "    {\"path\":\"./images/test3-TRITC 2 (560).ndpi\",                    \"driver\":\"NDPI\"},\n",
    "    {\"path\":\"./images/Leica-Fluorescence-1.scn\",                    \"driver\":\"SCN\"},\n",
    "    {\"path\":\"./images/Zeiss-1-Merged.zvi\",                          \"driver\":\"ZVI\"}\n",
    "    ]"
   ]
  },
  {
   "cell_type": "markdown",
   "id": "78f1176e-dc2e-41fa-8d92-6649e1b31dda",
   "metadata": {},
   "source": [
    "# Open a slide\n",
    "The **open_slide** function is a part of the SlideIO library, which is designed for working with digital pathology images. This function allows the user to open an image file and create a Slide object, which represents the image(s) contained within the file. The Slide object provides a high-level interface for accessing and manipulating the image data.\n",
    "\n",
    "The **open_slide** function takes two parameters: *path* and *driver*. The *path* parameter is a string that specifies the path to the file (for some formats like DICOM it can be a folder) that contains the image(s) that the user wants to explore. The *driver* parameter is a string that specifies the name of the internal driver that can encode the corresponding file.\n",
    "\n",
    "The driver parameter can be obtained by calling the **get_driver_ids** function, which returns a list of supported drivers for different file formats."
   ]
  },
  {
   "cell_type": "code",
   "execution_count": 6,
   "id": "1d3d885d-b2b6-40de-a96c-90c7a0597e99",
   "metadata": {
    "tags": []
   },
   "outputs": [
    {
     "data": {
      "text/plain": [
       "['AFI', 'CZI', 'DCM', 'GDAL', 'NDPI', 'SCN', 'SVS', 'ZVI']"
      ]
     },
     "execution_count": 6,
     "metadata": {},
     "output_type": "execute_result"
    }
   ],
   "source": [
    "slideio.get_driver_ids()"
   ]
  },
  {
   "cell_type": "markdown",
   "id": "d8a8af49-a6ff-4360-8c92-ba638e9e5f66",
   "metadata": {},
   "source": [
    "| **Driver** | **File format**                                                                                                                              | **File extensions**              |\n",
    "|------------|----------------------------------------------------------------------------------------------------------------------------------------------|----------------------------------|\n",
    "| **SVS**    | [Aperio SVS](https://www.leicabiosystems.com/en-de/digital-pathology/manage/aperio-imagescope/)                                              | *.svs                            |\n",
    "| **AFI**    | [Aperio AFI - Fluorescent images](https://www.pathologynews.com/fileformats/leica-afi/)                                                      | *.afi                            |\n",
    "| **SCN**    | [Leica](https://www.leica-microsystems.com/) SCN images                                                                                      | *.scn                            |\n",
    "| **CZI**    | [Zeiss CZI](https://www.zeiss.com/microscopy/en/products/software/zeiss-zen/czi-image-file-format.html) images                               | *.czi                            |\n",
    "| **ZVI**    | Zeiss ZVI image format                                                                                                                       | *.zvi                            |\n",
    "| **DCM**    | DICOM images                                                                                                                                 | *.dcm, no extension              |\n",
    "| **NDPI**   | [Hamamatsu NDPI image format](https://www.hamamatsu.com/eu/en/product/life-science-and-medical-systems/digital-slide-scanner/U12388-01.html) | *.ndpi                           |\n",
    "| **GDAL**   | General image fomtes                                                                                                                         | *.jpeg,*.jpg,*.tiff,*.tiff,*.png |\n"
   ]
  },
  {
   "cell_type": "markdown",
   "id": "46409b65-265e-462f-82b5-11b52fea6000",
   "metadata": {},
   "source": [
    "Here is an example of opening of a Slide:"
   ]
  },
  {
   "cell_type": "code",
   "execution_count": 12,
   "id": "b3372c4f-1b24-498e-93c4-fff3ce8d1704",
   "metadata": {
    "tags": []
   },
   "outputs": [
    {
     "data": {
      "text/plain": [
       "('./images/CMU-1-Small-Region.svs', 'SVS')"
      ]
     },
     "execution_count": 12,
     "metadata": {},
     "output_type": "execute_result"
    }
   ],
   "source": [
    "path = images[0]['path']\n",
    "driver = images[0]['driver']\n",
    "path, driver"
   ]
  },
  {
   "cell_type": "code",
   "execution_count": 17,
   "id": "edc1e568-7c59-468a-ac2a-b342d9678e77",
   "metadata": {
    "tags": []
   },
   "outputs": [
    {
     "data": {
      "text/plain": [
       "<slideio.py_slideio.Slide at 0x29476de3df0>"
      ]
     },
     "execution_count": 17,
     "metadata": {},
     "output_type": "execute_result"
    }
   ],
   "source": [
    "slide = slideio.open_slide(path,driver)\n",
    "slide"
   ]
  },
  {
   "cell_type": "markdown",
   "id": "6341babe-df12-4262-a98a-593fb241c92a",
   "metadata": {},
   "source": [
    "## Slide object properties\n",
    "| **Property** | **Description** |\n",
    "|---|---|\n",
    "| **num_scenes** | Property that returns number of **Scene** objects in the **Slide**. |\n",
    "| **file_path** | Path to the file representing the **Slide**. |\n",
    "| **num_aux_images** | Number of auxiliary images in the **Slide** such as labels, thumbnails, etc. |\n",
    "| **raw_metadata** | A string contains metadata extracted from the file.  |\n",
    "\n"
   ]
  },
  {
   "cell_type": "code",
   "execution_count": null,
   "id": "0f95f18f-739d-4d39-a264-6825c6d4f2c4",
   "metadata": {},
   "outputs": [],
   "source": []
  },
  {
   "cell_type": "markdown",
   "id": "d2d9dfe0-efa0-4339-b281-c1bbbbfd744d",
   "metadata": {
    "tags": []
   },
   "source": [
    "A **Slide** object contains a collection of images represented by **Scene** objects. Number of **Scene** objects in the collection can be obtained from **num_scenes** property of the **Slide**: "
   ]
  },
  {
   "cell_type": "code",
   "execution_count": 11,
   "id": "fa644488-5eb7-46cf-961f-db296d3c08fc",
   "metadata": {
    "tags": []
   },
   "outputs": [
    {
     "data": {
      "text/plain": [
       "1"
      ]
     },
     "execution_count": 11,
     "metadata": {},
     "output_type": "execute_result"
    }
   ],
   "source": [
    "num_scenes = slide.num_scenes\n",
    "num_scenes"
   ]
  },
  {
   "cell_type": "code",
   "execution_count": 18,
   "id": "01a7d6e0-7e95-4a63-ac46-3568c222394d",
   "metadata": {
    "tags": []
   },
   "outputs": [
    {
     "data": {
      "text/plain": [
       "3"
      ]
     },
     "execution_count": 18,
     "metadata": {},
     "output_type": "execute_result"
    }
   ],
   "source": [
    "slide.num_aux_images"
   ]
  },
  {
   "cell_type": "code",
   "execution_count": 19,
   "id": "981f1c8e-96ed-4484-9a26-febe47598c6c",
   "metadata": {
    "tags": []
   },
   "outputs": [
    {
     "data": {
      "text/plain": [
       "'Aperio Image Library v11.2.1 \\r\\n46000x32914 [42673,5576 2220x2967] (240x240) JPEG/RGB Q=30;Aperio Image Library v10.0.51\\r\\n46920x33014 [0,100 46000x32914] (256x256) JPEG/RGB Q=30|AppMag = 20|StripeWidth = 2040|ScanScope ID = CPAPERIOCS|Filename = CMU-1|Date = 12/29/09|Time = 09:59:15|User = b414003d-95c6-48b0-9369-8010ed517ba7|Parmset = USM Filter|MPP = 0.4990|Left = 25.691574|Top = 23.449873|LineCameraSkew = -0.000424|LineAreaXOffset = 0.019265|LineAreaYOffset = -0.000313|Focus Offset = 0.000000|ImageID = 1004486|OriginalWidth = 46920|Originalheight = 33014|Filtered = 5|OriginalWidth = 46000|OriginalHeight = 32914'"
      ]
     },
     "execution_count": 19,
     "metadata": {},
     "output_type": "execute_result"
    }
   ],
   "source": [
    "slide.raw_metadata"
   ]
  },
  {
   "cell_type": "code",
   "execution_count": null,
   "id": "4d4ce576-c0aa-4b4c-8ea9-fa008ae11f15",
   "metadata": {},
   "outputs": [],
   "source": []
  }
 ],
 "metadata": {
  "kernelspec": {
   "display_name": "Python 3 (ipykernel)",
   "language": "python",
   "name": "python3"
  },
  "language_info": {
   "codemirror_mode": {
    "name": "ipython",
    "version": 3
   },
   "file_extension": ".py",
   "mimetype": "text/x-python",
   "name": "python",
   "nbconvert_exporter": "python",
   "pygments_lexer": "ipython3",
   "version": "3.10.9"
  }
 },
 "nbformat": 4,
 "nbformat_minor": 5
}
