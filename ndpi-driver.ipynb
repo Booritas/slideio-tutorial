{
 "cells": [
  {
   "cell_type": "code",
   "execution_count": 42,
   "id": "030d2f95-6e00-4f90-accb-8af2c1202251",
   "metadata": {
    "tags": []
   },
   "outputs": [],
   "source": [
    "import slideio\n",
    "from utils import get_test_images, display_driver_test_image_info, show_images, show_image, get_driver_test_images\n",
    "from IPython.display import display\n",
    "import json\n",
    "import pandas as pd"
   ]
  },
  {
   "cell_type": "markdown",
   "id": "99996fed-bbc8-4945-bbe9-b5ceb098b297",
   "metadata": {
    "tags": []
   },
   "source": [
    "# Test images\n",
    "For the future demonstration of the library, we will be utilizing some test images. Information regarding the images and the drivers required for image processing is stored in the *image.json* file. The helper utility *get_test_images* loads this image information into a list for convenient access and utilization during the demonstration."
   ]
  },
  {
   "cell_type": "code",
   "execution_count": 43,
   "id": "f6bebd81-3494-463e-bef2-c3b05c4dc393",
   "metadata": {
    "tags": []
   },
   "outputs": [
    {
     "data": {
      "text/html": [
       "<table style='border-collapse: collapse'><tr><th style='text-align: left; border: 1px solid black'>Image Path</th><th style='border: 1px solid black'>Driver</th></tr><tr><td style='text-align: left; border: 1px solid black'>./images/test3-DAPI-2-(387).ndpi</td><td style='font-weight: bold; border: 1px solid black'>NDPI</td></tr><tr><td style='text-align: left; border: 1px solid black'>./images/test3-FITC 2 (485).ndpi</td><td style='font-weight: bold; border: 1px solid black'>NDPI</td></tr><tr><td style='text-align: left; border: 1px solid black'>./images/test3-TRITC 2 (560).ndpi</td><td style='font-weight: bold; border: 1px solid black'>NDPI</td></tr><tr><td style='text-align: left; border: 1px solid black'>./images/2017-02-27 15.22.39.ndpi</td><td style='font-weight: bold; border: 1px solid black'>NDPI</td></tr></table>"
      ],
      "text/plain": [
       "<IPython.core.display.HTML object>"
      ]
     },
     "metadata": {},
     "output_type": "display_data"
    }
   ],
   "source": [
    "images = get_driver_test_images('NDPI')\n",
    "display_driver_test_image_info(images, 'NDPI')"
   ]
  },
  {
   "cell_type": "markdown",
   "id": "7cec15d2-cd54-4d00-bb7d-943e69974a7f",
   "metadata": {},
   "source": [
    "# Overview\n",
    "This notebook demonstrates using slideio library for reading of hammamatsu ndpi images. "
   ]
  },
  {
   "cell_type": "markdown",
   "id": "c8d4a2e2-9c57-467d-809a-65b302116dea",
   "metadata": {},
   "source": [
    "# Open hammamatsu image\n",
    "Driver id for the hammamatsu ndpi images is 'NDPI'. Slideio library can automaticaly recognize the image by file extension '.ndpi'. It is possible to use 'AUTO' instead of driver id if a file has extension '.ndpi'. A hammamatsu slide always contain a single scene and up to 2 auxiliary images (macro and map)"
   ]
  },
  {
   "cell_type": "code",
   "execution_count": 44,
   "id": "cd74b1b6-5fce-4c51-9fb7-8e35db08d728",
   "metadata": {},
   "outputs": [
    {
     "data": {
      "text/plain": [
       "\"Number of scenes: 1, Auxiliary images: ['macro', 'map']\""
      ]
     },
     "execution_count": 44,
     "metadata": {},
     "output_type": "execute_result"
    }
   ],
   "source": [
    "slide_path = images[3]\n",
    "slide = slideio.open_slide(slide_path, 'AUTO')\n",
    "f\"Number of scenes: {slide.num_scenes}, Auxiliary images: {slide.get_aux_image_names()}\""
   ]
  },
  {
   "cell_type": "markdown",
   "id": "139d4533-9927-4686-b7d2-2e449b53b254",
   "metadata": {},
   "source": [
    "The single scene is always accessible by index '0'."
   ]
  },
  {
   "cell_type": "code",
   "execution_count": 45,
   "id": "f52f8528-f751-4081-aa41-ca85805bc9b6",
   "metadata": {},
   "outputs": [
    {
     "data": {
      "text/plain": [
       "(0, 0, 7680, 11008)"
      ]
     },
     "execution_count": 45,
     "metadata": {},
     "output_type": "execute_result"
    }
   ],
   "source": [
    "image = slide.get_scene(0)\n",
    "image.rect"
   ]
  },
  {
   "cell_type": "markdown",
   "id": "a761cb70-885f-483b-b04a-65fd15df9694",
   "metadata": {},
   "source": [
    "NDPI slides can be brightfield JPEG encoded images or single channel 16bit JpegXR compressed images."
   ]
  },
  {
   "cell_type": "code",
   "execution_count": 62,
   "id": "910aa934-05dd-4bc2-bcf6-5597d277433d",
   "metadata": {},
   "outputs": [
    {
     "name": "stdout",
     "output_type": "stream",
     "text": [
      "./images/test3-DAPI-2-(387).ndpi\n"
     ]
    },
    {
     "ename": "ValueError",
     "evalue": "If using all scalar values, you must pass an index",
     "output_type": "error",
     "traceback": [
      "\u001b[1;31m---------------------------------------------------------------------------\u001b[0m",
      "\u001b[1;31mValueError\u001b[0m                                Traceback (most recent call last)",
      "Cell \u001b[1;32mIn[62], line 14\u001b[0m\n\u001b[0;32m     12\u001b[0m     \u001b[38;5;66;03m#image_data[\"channel type\"] = str(scene.get_channel_data_type(0))\u001b[39;00m\n\u001b[0;32m     13\u001b[0m     image_data[\u001b[38;5;124m\"\u001b[39m\u001b[38;5;124mcompression\u001b[39m\u001b[38;5;124m\"\u001b[39m] \u001b[38;5;241m=\u001b[39m scene\u001b[38;5;241m.\u001b[39mcompression\n\u001b[1;32m---> 14\u001b[0m     row_df \u001b[38;5;241m=\u001b[39m \u001b[43mpd\u001b[49m\u001b[38;5;241;43m.\u001b[39;49m\u001b[43mDataFrame\u001b[49m\u001b[43m(\u001b[49m\u001b[43mimage_data\u001b[49m\u001b[43m)\u001b[49m\n\u001b[0;32m     15\u001b[0m     rows\u001b[38;5;241m.\u001b[39mappend(row_df)\n\u001b[0;32m     16\u001b[0m df \u001b[38;5;241m=\u001b[39m pd\u001b[38;5;241m.\u001b[39mconcat(rows)    \n",
      "File \u001b[1;32m~\\anaconda3\\envs\\slideio\\lib\\site-packages\\pandas\\core\\frame.py:664\u001b[0m, in \u001b[0;36mDataFrame.__init__\u001b[1;34m(self, data, index, columns, dtype, copy)\u001b[0m\n\u001b[0;32m    658\u001b[0m     mgr \u001b[38;5;241m=\u001b[39m \u001b[38;5;28mself\u001b[39m\u001b[38;5;241m.\u001b[39m_init_mgr(\n\u001b[0;32m    659\u001b[0m         data, axes\u001b[38;5;241m=\u001b[39m{\u001b[38;5;124m\"\u001b[39m\u001b[38;5;124mindex\u001b[39m\u001b[38;5;124m\"\u001b[39m: index, \u001b[38;5;124m\"\u001b[39m\u001b[38;5;124mcolumns\u001b[39m\u001b[38;5;124m\"\u001b[39m: columns}, dtype\u001b[38;5;241m=\u001b[39mdtype, copy\u001b[38;5;241m=\u001b[39mcopy\n\u001b[0;32m    660\u001b[0m     )\n\u001b[0;32m    662\u001b[0m \u001b[38;5;28;01melif\u001b[39;00m \u001b[38;5;28misinstance\u001b[39m(data, \u001b[38;5;28mdict\u001b[39m):\n\u001b[0;32m    663\u001b[0m     \u001b[38;5;66;03m# GH#38939 de facto copy defaults to False only in non-dict cases\u001b[39;00m\n\u001b[1;32m--> 664\u001b[0m     mgr \u001b[38;5;241m=\u001b[39m \u001b[43mdict_to_mgr\u001b[49m\u001b[43m(\u001b[49m\u001b[43mdata\u001b[49m\u001b[43m,\u001b[49m\u001b[43m \u001b[49m\u001b[43mindex\u001b[49m\u001b[43m,\u001b[49m\u001b[43m \u001b[49m\u001b[43mcolumns\u001b[49m\u001b[43m,\u001b[49m\u001b[43m \u001b[49m\u001b[43mdtype\u001b[49m\u001b[38;5;241;43m=\u001b[39;49m\u001b[43mdtype\u001b[49m\u001b[43m,\u001b[49m\u001b[43m \u001b[49m\u001b[43mcopy\u001b[49m\u001b[38;5;241;43m=\u001b[39;49m\u001b[43mcopy\u001b[49m\u001b[43m,\u001b[49m\u001b[43m \u001b[49m\u001b[43mtyp\u001b[49m\u001b[38;5;241;43m=\u001b[39;49m\u001b[43mmanager\u001b[49m\u001b[43m)\u001b[49m\n\u001b[0;32m    665\u001b[0m \u001b[38;5;28;01melif\u001b[39;00m \u001b[38;5;28misinstance\u001b[39m(data, ma\u001b[38;5;241m.\u001b[39mMaskedArray):\n\u001b[0;32m    666\u001b[0m     \u001b[38;5;28;01mimport\u001b[39;00m \u001b[38;5;21;01mnumpy\u001b[39;00m\u001b[38;5;21;01m.\u001b[39;00m\u001b[38;5;21;01mma\u001b[39;00m\u001b[38;5;21;01m.\u001b[39;00m\u001b[38;5;21;01mmrecords\u001b[39;00m \u001b[38;5;28;01mas\u001b[39;00m \u001b[38;5;21;01mmrecords\u001b[39;00m\n",
      "File \u001b[1;32m~\\anaconda3\\envs\\slideio\\lib\\site-packages\\pandas\\core\\internals\\construction.py:493\u001b[0m, in \u001b[0;36mdict_to_mgr\u001b[1;34m(data, index, columns, dtype, typ, copy)\u001b[0m\n\u001b[0;32m    489\u001b[0m     \u001b[38;5;28;01melse\u001b[39;00m:\n\u001b[0;32m    490\u001b[0m         \u001b[38;5;66;03m# dtype check to exclude e.g. range objects, scalars\u001b[39;00m\n\u001b[0;32m    491\u001b[0m         arrays \u001b[38;5;241m=\u001b[39m [x\u001b[38;5;241m.\u001b[39mcopy() \u001b[38;5;28;01mif\u001b[39;00m \u001b[38;5;28mhasattr\u001b[39m(x, \u001b[38;5;124m\"\u001b[39m\u001b[38;5;124mdtype\u001b[39m\u001b[38;5;124m\"\u001b[39m) \u001b[38;5;28;01melse\u001b[39;00m x \u001b[38;5;28;01mfor\u001b[39;00m x \u001b[38;5;129;01min\u001b[39;00m arrays]\n\u001b[1;32m--> 493\u001b[0m \u001b[38;5;28;01mreturn\u001b[39;00m \u001b[43marrays_to_mgr\u001b[49m\u001b[43m(\u001b[49m\u001b[43marrays\u001b[49m\u001b[43m,\u001b[49m\u001b[43m \u001b[49m\u001b[43mcolumns\u001b[49m\u001b[43m,\u001b[49m\u001b[43m \u001b[49m\u001b[43mindex\u001b[49m\u001b[43m,\u001b[49m\u001b[43m \u001b[49m\u001b[43mdtype\u001b[49m\u001b[38;5;241;43m=\u001b[39;49m\u001b[43mdtype\u001b[49m\u001b[43m,\u001b[49m\u001b[43m \u001b[49m\u001b[43mtyp\u001b[49m\u001b[38;5;241;43m=\u001b[39;49m\u001b[43mtyp\u001b[49m\u001b[43m,\u001b[49m\u001b[43m \u001b[49m\u001b[43mconsolidate\u001b[49m\u001b[38;5;241;43m=\u001b[39;49m\u001b[43mcopy\u001b[49m\u001b[43m)\u001b[49m\n",
      "File \u001b[1;32m~\\anaconda3\\envs\\slideio\\lib\\site-packages\\pandas\\core\\internals\\construction.py:118\u001b[0m, in \u001b[0;36marrays_to_mgr\u001b[1;34m(arrays, columns, index, dtype, verify_integrity, typ, consolidate)\u001b[0m\n\u001b[0;32m    115\u001b[0m \u001b[38;5;28;01mif\u001b[39;00m verify_integrity:\n\u001b[0;32m    116\u001b[0m     \u001b[38;5;66;03m# figure out the index, if necessary\u001b[39;00m\n\u001b[0;32m    117\u001b[0m     \u001b[38;5;28;01mif\u001b[39;00m index \u001b[38;5;129;01mis\u001b[39;00m \u001b[38;5;28;01mNone\u001b[39;00m:\n\u001b[1;32m--> 118\u001b[0m         index \u001b[38;5;241m=\u001b[39m \u001b[43m_extract_index\u001b[49m\u001b[43m(\u001b[49m\u001b[43marrays\u001b[49m\u001b[43m)\u001b[49m\n\u001b[0;32m    119\u001b[0m     \u001b[38;5;28;01melse\u001b[39;00m:\n\u001b[0;32m    120\u001b[0m         index \u001b[38;5;241m=\u001b[39m ensure_index(index)\n",
      "File \u001b[1;32m~\\anaconda3\\envs\\slideio\\lib\\site-packages\\pandas\\core\\internals\\construction.py:656\u001b[0m, in \u001b[0;36m_extract_index\u001b[1;34m(data)\u001b[0m\n\u001b[0;32m    653\u001b[0m         \u001b[38;5;28;01mraise\u001b[39;00m \u001b[38;5;167;01mValueError\u001b[39;00m(\u001b[38;5;124m\"\u001b[39m\u001b[38;5;124mPer-column arrays must each be 1-dimensional\u001b[39m\u001b[38;5;124m\"\u001b[39m)\n\u001b[0;32m    655\u001b[0m \u001b[38;5;28;01mif\u001b[39;00m \u001b[38;5;129;01mnot\u001b[39;00m indexes \u001b[38;5;129;01mand\u001b[39;00m \u001b[38;5;129;01mnot\u001b[39;00m raw_lengths:\n\u001b[1;32m--> 656\u001b[0m     \u001b[38;5;28;01mraise\u001b[39;00m \u001b[38;5;167;01mValueError\u001b[39;00m(\u001b[38;5;124m\"\u001b[39m\u001b[38;5;124mIf using all scalar values, you must pass an index\u001b[39m\u001b[38;5;124m\"\u001b[39m)\n\u001b[0;32m    658\u001b[0m \u001b[38;5;28;01melif\u001b[39;00m have_series:\n\u001b[0;32m    659\u001b[0m     index \u001b[38;5;241m=\u001b[39m union_indexes(indexes)\n",
      "\u001b[1;31mValueError\u001b[0m: If using all scalar values, you must pass an index"
     ]
    }
   ],
   "source": [
    "rows = []\n",
    "for image_path in images:\n",
    "    image_data = {}\n",
    "    print(image_path)\n",
    "    image_data[\"path\"] = image_path\n",
    "    slide = slideio.open_slide(image_path, 'NDPI')\n",
    "    image_data[\"num scenes\"] = slide.num_scenes\n",
    "    scene = slide.get_scene(0)\n",
    "    image_data[\"rect\"] = str(scene.rect)\n",
    "    channel_count = scene.num_channels\n",
    "    image_data[\"num channels\"] = channel_count\n",
    "    #image_data[\"channel type\"] = str(scene.get_channel_data_type(0))\n",
    "    image_data[\"compression\"] = scene.compression\n",
    "    row_df = pd.DataFrame(image_data)\n",
    "    rows.append(row_df)\n",
    "df = pd.concat(rows)    \n",
    "df"
   ]
  },
  {
   "cell_type": "code",
   "execution_count": 47,
   "id": "25a1672d-83fe-433b-8a8b-4b8fc7475b71",
   "metadata": {},
   "outputs": [
    {
     "data": {
      "text/plain": [
       "['./images/test3-DAPI-2-(387).ndpi',\n",
       " './images/test3-FITC 2 (485).ndpi',\n",
       " './images/test3-TRITC 2 (560).ndpi',\n",
       " './images/2017-02-27 15.22.39.ndpi']"
      ]
     },
     "execution_count": 47,
     "metadata": {},
     "output_type": "execute_result"
    }
   ],
   "source": [
    "images"
   ]
  },
  {
   "cell_type": "code",
   "execution_count": null,
   "id": "6f286c86-e12c-44be-b80b-aaf4ecc0e360",
   "metadata": {},
   "outputs": [],
   "source": []
  }
 ],
 "metadata": {
  "kernelspec": {
   "display_name": "Python 3 (ipykernel)",
   "language": "python",
   "name": "python3"
  },
  "language_info": {
   "codemirror_mode": {
    "name": "ipython",
    "version": 3
   },
   "file_extension": ".py",
   "mimetype": "text/x-python",
   "name": "python",
   "nbconvert_exporter": "python",
   "pygments_lexer": "ipython3",
   "version": "3.10.11"
  }
 },
 "nbformat": 4,
 "nbformat_minor": 5
}
